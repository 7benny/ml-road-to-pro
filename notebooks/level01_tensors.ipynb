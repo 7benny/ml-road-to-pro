{
  "nbformat": 4,
  "nbformat_minor": 0,
  "metadata": {
    "colab": {
      "provenance": [],
      "authorship_tag": "ABX9TyOSv3WhQm5OtYXiaC6B0F/S"
    },
    "kernelspec": {
      "name": "python3",
      "display_name": "Python 3"
    },
    "language_info": {
      "name": "python"
    }
  },
  "cells": [
    {
      "cell_type": "code",
      "execution_count": 1,
      "metadata": {
        "colab": {
          "base_uri": "https://localhost:8080/"
        },
        "id": "o6fvXoekzpvc",
        "outputId": "cb0293e8-d809-4dd2-fb76-c97882c9e941"
      },
      "outputs": [
        {
          "output_type": "stream",
          "name": "stdout",
          "text": [
            "tensor(2.1300)\n",
            "torch.Size([])\n",
            "tensor([ 1,  3,  3,  3,  3,  3,  3, 33,  3])\n",
            "torch.Size([9])\n",
            "tensor([[1, 2],\n",
            "        [2, 3]])\n",
            "torch.Size([3, 3, 3])\n",
            "tensor([[[0, 0, 0],\n",
            "         [0, 0, 0],\n",
            "         [0, 0, 0]],\n",
            "\n",
            "        [[0, 0, 0],\n",
            "         [0, 0, 0],\n",
            "         [0, 0, 0]],\n",
            "\n",
            "        [[0, 0, 0],\n",
            "         [0, 0, 0],\n",
            "         [0, 0, 0]]])\n",
            "torch.Size([3, 3, 3])\n",
            "tensor([[[0., 0., 0.],\n",
            "         [0., 0., 0.],\n",
            "         [0., 0., 0.]],\n",
            "\n",
            "        [[0., 0., 0.],\n",
            "         [0., 0., 0.],\n",
            "         [0., 0., 0.]],\n",
            "\n",
            "        [[0., 0., 0.],\n",
            "         [0., 0., 0.],\n",
            "         [0., 0., 0.]]])\n"
          ]
        }
      ],
      "source": [
        "from re import M\n",
        "import torch\n",
        "\n",
        "scalar = torch.tensor(2.13)\n",
        "print(scalar)\n",
        "print(scalar.shape)\n",
        "\n",
        "vector = torch.tensor([1,3,3,3,3,3,3,33,3])\n",
        "print(vector)\n",
        "print(vector.shape)\n",
        "\n",
        "matrix = torch.tensor([[1,2], [2,3]])\n",
        "print(matrix)\n",
        "\n",
        "\n",
        "\n",
        "threed = torch.tensor([\n",
        "    [[0,0,0],\n",
        "     [0,0,0],\n",
        "     [0,0,0]],\n",
        "    [[0,0,0],\n",
        "     [0,0,0],\n",
        "     [0,0,0]],\n",
        "    [[0,0,0],\n",
        "     [0,0,0],\n",
        "     [0,0,0]]\n",
        "    ])\n",
        "print(threed.shape)\n",
        "print(threed)\n",
        "zeros = torch.zeros(3,3,3)\n",
        "print(zeros.shape)\n",
        "print(zeros)"
      ]
    },
    {
      "cell_type": "code",
      "source": [
        "import torch\n",
        "\n",
        "x = torch.tensor([1.0, 4.0, 5.0])\n",
        "w = torch.tensor([0.2, 0.5, 0.3])\n",
        "b =  torch.tensor(0.4)\n",
        "\n",
        "y = torch.dot(w,x) + b\n",
        "\n",
        "print(y)"
      ],
      "metadata": {
        "colab": {
          "base_uri": "https://localhost:8080/"
        },
        "id": "rRq55hUW6pqJ",
        "outputId": "4704b7e5-1fce-4e5c-d2c6-56cee9baa870"
      },
      "execution_count": null,
      "outputs": [
        {
          "output_type": "stream",
          "name": "stdout",
          "text": [
            "tensor(4.1000)\n"
          ]
        }
      ]
    },
    {
      "cell_type": "code",
      "source": [],
      "metadata": {
        "id": "4fpbgJFI0QGY"
      },
      "execution_count": null,
      "outputs": []
    }
  ]
}