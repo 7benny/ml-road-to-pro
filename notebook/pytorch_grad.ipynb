{
  "nbformat": 4,
  "nbformat_minor": 0,
  "metadata": {
    "colab": {
      "provenance": [],
      "authorship_tag": "ABX9TyMPqvbMRQbG0haomqu9N9eq"
    },
    "kernelspec": {
      "name": "python3",
      "display_name": "Python 3"
    },
    "language_info": {
      "name": "python"
    }
  },
  "cells": [
    {
      "cell_type": "code",
      "execution_count": 7,
      "metadata": {
        "colab": {
          "base_uri": "https://localhost:8080/"
        },
        "id": "WDAry_yT48YC",
        "outputId": "eb012eb9-4412-40f4-86a8-50ae0e74bc53"
      },
      "outputs": [
        {
          "output_type": "stream",
          "name": "stdout",
          "text": [
            "epoch 000 | loss=124.703743\n",
            "epoch 001 | loss=88.201363\n",
            "epoch 040 | loss=16.873829\n",
            "epoch 080 | loss=14.866481\n",
            "epoch 120 | loss=13.474071\n",
            "epoch 160 | loss=12.265880\n",
            "learned weight W: [[1.4590517 4.276012 ]]  learned bias b: [-2.4395864]\n"
          ]
        }
      ],
      "source": [
        "import torch\n",
        "import torch.nn as nn\n",
        "\n",
        "device = torch.device(\"cuda\" if torch.cuda.is_available() else \"cpu\")\n",
        "\n",
        "\n",
        "X = torch.tensor([[1.2, 2.3],\n",
        "                  [0.5, 1.7],\n",
        "                  [2.3, 3.4],\n",
        "                  [4.0, 0.9]], dtype=torch.float32, device=device)   # [4, 2]\n",
        "\n",
        "y = torch.tensor([[5.0],\n",
        "                  [3.1],\n",
        "                  [20.0],\n",
        "                  [6.3]], dtype=torch.float32, device=device)        # [4, 1])\n",
        "\n",
        "model = nn.Linear(in_features = 2, out_features = 1).to(device)\n",
        "criterion = nn.MSELoss()\n",
        "optimizer = torch.optim.SGD(model.parameters(),0.01)\n",
        "\n",
        "epoch = 200\n",
        "model.train()\n",
        "\n",
        "for i in range(epoch):\n",
        "  y_pred = model(X)\n",
        "\n",
        "  loss = criterion(y_pred,y)\n",
        "\n",
        "  optimizer.zero_grad()\n",
        "  loss.backward()\n",
        "  optimizer.step()\n",
        "  if i % 40 == 0 or i == 1:\n",
        "        print(f\"epoch {i:03d} | loss={loss.item():.6f}\")\n",
        "\n",
        "W = model.weight.detach().cpu().numpy()  # shape [1, 2]\n",
        "b = model.bias.detach().cpu().numpy()    # shape [1]\n",
        "print(\"learned weight W:\", W, \" learned bias b:\", b)\n"
      ]
    },
    {
      "cell_type": "code",
      "source": [],
      "metadata": {
        "id": "KnIq5d8BCV7W"
      },
      "execution_count": null,
      "outputs": []
    }
  ]
}